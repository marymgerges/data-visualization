{
 "cells": [
  {
   "cell_type": "markdown",
   "id": "aad1d0c3-caf3-45ba-b4c8-b2e5ffc16c1d",
   "metadata": {},
   "source": [
    "# Pymaceuticals Inc.\n",
    "---\n",
    "\n",
    "### Analysis\n",
    "\n",
    "1) There was a fairly equivalent number of male and female mice used in this study.\n",
    "2) The most frequent, as well as the most successful, drug regimen used was Capomulin, while the least frequent drug regimen was Propriva.\n",
    "3) There is a strong correlation between mouse weight and the average tumor volume since the correlation coefficient is 0.84."
   ]
  },
  {
   "cell_type": "code",
   "execution_count": null,
   "id": "48e00f9d-4de6-4d65-bfff-e8127719b00d",
   "metadata": {},
   "outputs": [],
   "source": [
    "# Dependencies and Setup\n",
    "%matplotlib inline\n",
    "import matplotlib.pyplot as plt\n",
    "import pandas as pd\n",
    "import scipy.stats as st\n",
    "import numpy as np\n",
    "\n",
    "# Study data files\n",
    "mouse_metadata_path = \"../Resources/Mouse_metadata.csv\"\n",
    "study_results_path = \"../Resources/Study_results.csv\"\n",
    "\n",
    "# Read the mouse data and the study results\n",
    "mouse_metadata = pd.read_csv(mouse_metadata_path)\n",
    "study_results = pd.read_csv(study_results_path)\n",
    "\n",
    "# Combine the data into a single DataFrame\n",
    "combined_data = pd.merge(study_results, mouse_metadata, how='left', on=\"Mouse ID\")\n",
    "\n",
    "# Display the data table for preview\n",
    "combined_data.head()"
   ]
  },
  {
   "cell_type": "code",
   "execution_count": null,
   "id": "2213e94b-7982-4c91-89a1-e560ecadec7a",
   "metadata": {},
   "outputs": [],
   "source": [
    "# Checking the number of mice.\n",
    "number_mice = len(combined_data['Mouse ID'].unique())\n",
    "number_mice"
   ]
  },
  {
   "cell_type": "code",
   "execution_count": null,
   "id": "b4e0f3f7-20f1-48b5-a9ef-650afd845ee3",
   "metadata": {},
   "outputs": [],
   "source": [
    "# Our data should be uniquely identified by Mouse ID and Timepoint\n",
    "# Get the duplicate mice by ID number that shows up for Mouse ID and Timepoint. \n",
    "dup_mouse_ID = combined_data.loc[combined_data.duplicated(subset=[\"Mouse ID\", \"Timepoint\",]), \"Mouse ID\"].unique()\n",
    "dup_mouse_ID"
   ]
  },
  {
   "cell_type": "code",
   "execution_count": null,
   "id": "9037f784-e033-4009-8929-71eeb1d9be70",
   "metadata": {},
   "outputs": [],
   "source": [
    "# Optional: Get all the data for the duplicate mouse ID. \n",
    "dup_mice_rows = combined_data[combined_data[\"Mouse ID\"] == \"g989\"]\n",
    "dup_mice_rows"
   ]
  },
  {
   "cell_type": "code",
   "execution_count": null,
   "id": "cff2a475-ba90-452d-950a-b46b2b03f416",
   "metadata": {},
   "outputs": [],
   "source": [
    "# Create a clean DataFrame by dropping the duplicate mouse by its ID.\n",
    "clean_df = combined_data.loc[(combined_data[\"Mouse ID\"] != \"g989\"), :]\n",
    "clean_df"
   ]
  },
  {
   "cell_type": "code",
   "execution_count": null,
   "id": "9b4582df-215f-498d-a3a3-72215c446180",
   "metadata": {},
   "outputs": [],
   "source": [
    "# Checking the number of mice in the clean DataFrame.\n",
    "number_clean_mice = len(clean_df['Mouse ID'].unique())\n",
    "number_clean_mice"
   ]
  },
  {
   "cell_type": "markdown",
   "id": "cd94e456-e905-4397-a681-dac7b75a097b",
   "metadata": {},
   "source": [
    "## Summary Statistics"
   ]
  },
  {
   "cell_type": "code",
   "execution_count": null,
   "id": "773c4cec-c3e0-4834-b9b7-7563b96c5bcd",
   "metadata": {},
   "outputs": [],
   "source": [
    "# Generate a summary statistics table of mean, median, variance, standard deviation, and SEM of the tumor volume for each regimen\n",
    "# Use groupby and summary statistical methods to calculate the following properties of each drug regimen: \n",
    "# mean, median, variance, standard deviation, and SEM of the tumor volume. \n",
    "tumor_volume_mean = clean_df.groupby([\"Drug Regimen\"])[\"Tumor Volume (mm3)\"].mean()\n",
    "tumor_volume_median = clean_df.groupby([\"Drug Regimen\"])[\"Tumor Volume (mm3)\"].median()\n",
    "tumor_volume_var = clean_df.groupby([\"Drug Regimen\"])[\"Tumor Volume (mm3)\"].var()\n",
    "tumor_volume_std = clean_df.groupby([\"Drug Regimen\"])[\"Tumor Volume (mm3)\"].std()\n",
    "tumor_volume_sem = clean_df.groupby([\"Drug Regimen\"])[\"Tumor Volume (mm3)\"].sem()\n",
    "# Assemble the resulting series into a single summary DataFrame.\n",
    "summary = pd.DataFrame({'Mean Tumor Volume': tumor_volume_mean,\n",
    "                        'Median Tumor Volume': tumor_volume_median,\n",
    "                        'Tumor Volume Variance': tumor_volume_var,\n",
    "                        'Tumor Volume Std. Dev.': tumor_volume_std,\n",
    "                        'Tumor Volume Std. Err.': tumor_volume_sem\n",
    "                       })\n",
    "summary"
   ]
  },
  {
   "cell_type": "code",
   "execution_count": null,
   "id": "e208323b-91d7-4e72-8950-5b591b22891f",
   "metadata": {},
   "outputs": [],
   "source": [
    "# A more advanced method to generate a summary statistics table of mean, median, variance, standard deviation,\n",
    "# and SEM of the tumor volume for each regimen (only one method is required in the solution)\n",
    "\n",
    "# Using the aggregation method, produce the same summary statistics in a single line\n",
    "one_line_summary = clean_df.groupby(['Drug Regimen']).agg({\"Tumor Volume (mm3)\": [\"mean\", \"median\", \"var\", \"std\", \"sem\"]})\n",
    "one_line_summary"
   ]
  },
  {
   "cell_type": "markdown",
   "id": "5cfd6fc3-c85f-4bf5-885b-1a5a330635bd",
   "metadata": {},
   "source": [
    "## Bar and Pie Charts"
   ]
  },
  {
   "cell_type": "code",
   "execution_count": null,
   "id": "26cda81c-5b0a-4af9-8b2b-74d17a6f9464",
   "metadata": {},
   "outputs": [],
   "source": [
    "drug_count = clean_df['Drug Regimen'].value_counts()"
   ]
  },
  {
   "cell_type": "code",
   "execution_count": null,
   "id": "81a801b0-24f0-4608-8ca8-8bbeabb62c30",
   "metadata": {},
   "outputs": [],
   "source": [
    "# Generate a bar plot showing the total number of rows (Mouse ID/Timepoints) for each drug regimen using Pandas.\n",
    "drug_count.plot(kind = \"bar\")\n",
    "plt.xlabel(\"Drug Regimen\")\n",
    "plt.ylabel(\"# of Observed Mouse Timepoints\")\n",
    "plt.show()"
   ]
  },
  {
   "cell_type": "code",
   "execution_count": null,
   "id": "3d14ffae-317e-4991-b2b0-c1c16cab95b9",
   "metadata": {},
   "outputs": [],
   "source": [
    "# Generate a bar plot showing the total number of rows (Mouse ID/Timepoints) for each drug regimen using pyplot.\n",
    "plt.bar(drug_count.index, drug_count.values)\n",
    "plt.xticks(rotation=90)\n",
    "plt.xlabel(\"Drug Regimen\")\n",
    "plt.ylabel(\"# of Observed Mouse Timepoints\")\n",
    "plt.show()"
   ]
  },
  {
   "cell_type": "code",
   "execution_count": null,
   "id": "c2a62278-eb92-4fce-9837-1a9f0e226879",
   "metadata": {},
   "outputs": [],
   "source": [
    "# Generate a pie plot showing the distribution of female versus male mice using Pandas\n",
    "mouse_gen = clean_df[\"Sex\"].value_counts()\n",
    "mouse_gen.plot(kind=\"pie\", autopct=\"%1.1f%%\")\n",
    "plt.ylabel(\"Sex\")\n",
    "plt.show()"
   ]
  },
  {
   "cell_type": "code",
   "execution_count": null,
   "id": "ea9c81fe-9a75-4a19-8bdd-80fd3f02617a",
   "metadata": {},
   "outputs": [],
   "source": [
    "# Generate a pie plot showing the distribution of female versus male mice using pyplot\n",
    "plt.pie(mouse_gen, labels=mouse_gen.index, autopct=\"%1.1f%%\")\n",
    "plt.ylabel(\"Sex\")\n",
    "plt.show()"
   ]
  },
  {
   "cell_type": "markdown",
   "id": "351c89f5-922b-4eb9-aa2c-c69afef4c2e3",
   "metadata": {},
   "source": [
    "## Quartiles, Outliers and Boxplots"
   ]
  },
  {
   "cell_type": "code",
   "execution_count": null,
   "id": "4a0b34d0-a400-472a-8ec3-5696894fcde3",
   "metadata": {},
   "outputs": [],
   "source": [
    "# Calculate the final tumor volume of each mouse across four of the treatment regimens:  \n",
    "# Capomulin, Ramicane, Infubinol, and Ceftamin\n",
    "final_tumor_vol = clean_df.groupby([\"Mouse ID\"])[\"Timepoint\"].max()\n",
    "final_tumor_vol = final_tumor_vol.reset_index()\n",
    "# Start by getting the last (greatest) timepoint for each mouse\n",
    "last_tp = clean_df.groupby([\"Mouse ID\"])[\"Timepoint\"].max()\n",
    "last_tp = last_tp.reset_index()\n",
    "\n",
    "# Merge this group df with the original DataFrame to get the tumor volume at the last timepoint\n",
    "merge_data = last_tp.merge(clean_df, on=[\"Mouse ID\", \"Timepoint\"], how=\"left\")"
   ]
  },
  {
   "cell_type": "code",
   "execution_count": null,
   "id": "91f34c0a-c497-45f7-88e0-a61273bccaba",
   "metadata": {},
   "outputs": [],
   "source": [
    "# Put treatments into a list for for loop (and later for plot labels)\n",
    "treatments = [\"Capomulin\", \"Ramicane\", \"Infubinol\", \"Ceftamin\"]\n",
    "\n",
    "# Create empty list to fill with tumor vol data (for plotting)\n",
    "tumor_vol_data = []\n",
    "\n",
    "# Calculate the IQR and quantitatively determine if there are any potential outliers. \n",
    "for drug in treatments:\n",
    "    \n",
    "    # Locate the rows which contain mice on each drug and get the tumor volumes\n",
    "    tumor_volume = merge_data.loc[merge_data[\"Drug Regimen\"]==drug, \"Tumor Volume (mm3)\"]\n",
    "    \n",
    "    # add subset \n",
    "    tumor_vol_data.append(tumor_volume)\n",
    "    \n",
    "    # Determine outliers using upper and lower bounds\n",
    "    quartiles = tumor_volume.quantile([.25,.5,.75])\n",
    "    lowerq = quartiles[0.25]\n",
    "    upperq = quartiles[0.75]\n",
    "    iqr = upperq-lowerq\n",
    "    \n",
    "    lower_bound = lowerq - (1.5*iqr)\n",
    "    upper_bound = upperq + (1.5*iqr)\n",
    "    \n",
    "    outliers = tumor_volume.loc[(tumor_volume<lower_bound) | (tumor_volume>upper_bound)]\n",
    "    print(f\"{drug}'s potential outliers: {outliers}\")"
   ]
  },
  {
   "cell_type": "code",
   "execution_count": null,
   "id": "12a01b65-3252-4a0e-a272-564b08e58957",
   "metadata": {},
   "outputs": [],
   "source": [
    "# Generate a box plot that shows the distrubution of the tumor volume for each treatment group.\n",
    "fig1, ax1 = plt.subplots()\n",
    "ax1.set_ylabel('Final Tumor Volume (mm3)')\n",
    "ax1.boxplot(tumor_vol_data, labels=treatments, flierprops = dict(markerfacecolor = \"red\", markersize=\"12\"))\n",
    "plt.show()"
   ]
  },
  {
   "cell_type": "markdown",
   "id": "63f0a7e8-e590-49a5-8ff4-04c903a9e227",
   "metadata": {},
   "source": [
    "## Line and Scatter Plots"
   ]
  },
  {
   "cell_type": "code",
   "execution_count": null,
   "id": "33f381c6-760b-4c8f-b1f6-550dbcdbf0aa",
   "metadata": {},
   "outputs": [],
   "source": [
    "# Generate a line plot of tumor volume vs. time point for a single mouse treated with Capomulin\n",
    "capomulin_treatment_df = clean_df.loc[clean_df[\"Drug Regimen\"]==\"Capomulin\",:]\n",
    "capomulin_mouse = capomulin_treatment_df.loc[capomulin_treatment_df[\"Mouse ID\"]==\"l509\",:]\n",
    "timepoint_days = capomulin_mouse[\"Timepoint\"]\n",
    "tumor_volume_mm3 = capomulin_mouse[\"Tumor Volume (mm3)\"]\n",
    "fig2, ax2 = plt.subplots()\n",
    "plt.plot(timepoint_days, tumor_volume_mm3, linewidth=2, color=\"blue\")\n",
    "plt.title(\"Capomulin treatment of mouse l509\")\n",
    "plt.xlabel('Timepoint (days)')\n",
    "plt.ylabel('Tumor Volume (mm3)')\n",
    "plt.show()"
   ]
  },
  {
   "cell_type": "code",
   "execution_count": null,
   "id": "e4e85a67-30fa-4ca8-89c3-09fe9fc7742d",
   "metadata": {},
   "outputs": [],
   "source": [
    "# Generate a scatter plot of mouse weight vs. the average observed tumor volume for the entire Capomulin regimen\n",
    "fig1, ax1 = plt.subplots()\n",
    "av_tumor_vol = capomulin_treatment_df.groupby(['Mouse ID'])[['Weight (g)', 'Tumor Volume (mm3)']].mean()\n",
    "av_tumor_vol\n",
    "plt.scatter(av_tumor_vol['Weight (g)'], av_tumor_vol['Tumor Volume (mm3)'])\n",
    "plt.xlabel('Weight (g)')\n",
    "plt.ylabel('Average Tumor Volume (mm3)')\n",
    "plt.show()"
   ]
  },
  {
   "cell_type": "markdown",
   "id": "8c6eb433-cc2e-4f9f-910c-c902e75b3755",
   "metadata": {},
   "source": [
    "## Correlation and Regression"
   ]
  },
  {
   "cell_type": "code",
   "execution_count": null,
   "id": "af02b5e5-2a13-450a-ba49-6b04fc4281f7",
   "metadata": {},
   "outputs": [],
   "source": [
    "# Calculate the correlation coefficient and a linear regression model \n",
    "# for mouse weight and average observed tumor volume for the entire Capomulin regimen\n",
    "correlation = round(st.pearsonr(av_tumor_vol['Weight (g)'], av_tumor_vol['Tumor Volume (mm3)'])[0],2)\n",
    "print(f'The correlation between mouse weight and the average tumor volume is {correlation}')\n",
    "\n",
    "slope, int, r, p, std_err = st.linregress(av_tumor_vol['Weight (g)'], av_tumor_vol['Tumor Volume (mm3)'])\n",
    "lin_reg = av_tumor_vol['Weight (g)'] * slope + int\n",
    "\n",
    "plt.scatter(av_tumor_vol['Weight (g)'], av_tumor_vol['Tumor Volume (mm3)'])\n",
    "plt.plot(av_tumor_vol['Weight (g)'], lin_reg, color='red')\n",
    "plt.xlabel('Weight (g)')\n",
    "plt.ylabel('Average Tumor Volume (mm3)')\n",
    "plt.show()"
   ]
  },
  {
   "cell_type": "code",
   "execution_count": null,
   "id": "3496bc6e-dfb4-4372-85a9-e7f741baa109",
   "metadata": {},
   "outputs": [],
   "source": []
  }
 ],
 "metadata": {
  "kernelspec": {
   "display_name": "Python 3 (ipykernel)",
   "language": "python",
   "name": "python3"
  },
  "language_info": {
   "codemirror_mode": {
    "name": "ipython",
    "version": 3
   },
   "file_extension": ".py",
   "mimetype": "text/x-python",
   "name": "python",
   "nbconvert_exporter": "python",
   "pygments_lexer": "ipython3",
   "version": "3.9.18"
  }
 },
 "nbformat": 4,
 "nbformat_minor": 5
}
